{
 "cells": [
  {
   "cell_type": "code",
   "execution_count": 50,
   "metadata": {},
   "outputs": [],
   "source": [
    "import os\n",
    "import time\n",
    "import math\n",
    "import re\n",
    "import struct\n",
    "import traceback\n",
    "import codecs\n",
    "\n",
    "import bitstring\n",
    "\n",
    "import numpy as np\n",
    "import matplotlib.pyplot as plt\n",
    "import pandas as pd\n",
    "import cv2\n",
    "\n",
    "from PIL import Image\n",
    "import IPython.display as display\n",
    "\n",
    "from JIS0208 import JIS0208"
   ]
  },
  {
   "cell_type": "code",
   "execution_count": 51,
   "metadata": {},
   "outputs": [
    {
     "data": {
      "text/plain": [
       "['setup.cfg',\n",
       " 'inspect-etl4.ipynb',\n",
       " '.gitmodules',\n",
       " 'co59-utf8.txt',\n",
       " 'shared.py',\n",
       " 'inspect-etl2.ipynb',\n",
       " 'inspect-etl3.ipynb',\n",
       " 'JIS0208.py',\n",
       " 'inspect-etl8g.ipynb',\n",
       " '.gitignore',\n",
       " 'inspect-etl7.ipynb',\n",
       " 'inspect-etl9b2.ipynb',\n",
       " '.git',\n",
       " 'scripts',\n",
       " 'ETL9G_IMG',\n",
       " 'README.md',\n",
       " '__pycache__',\n",
       " '.gitattributes',\n",
       " 'to_tfrecord.py',\n",
       " 'classes.tsv',\n",
       " 'ETL9G',\n",
       " 'recompile-etldb.py',\n",
       " 'inspect-etl6.ipynb',\n",
       " 'inspect-etl9g.ipynb',\n",
       " 'requirements.txt',\n",
       " '.ipynb_checkpoints',\n",
       " 'inspect-etl8b2.ipynb',\n",
       " 'inspect-etl5.ipynb']"
      ]
     },
     "execution_count": 51,
     "metadata": {},
     "output_type": "execute_result"
    }
   ],
   "source": [
    "os.listdir('.')"
   ]
  },
  {
   "cell_type": "code",
   "execution_count": 52,
   "metadata": {},
   "outputs": [],
   "source": [
    "file_list = [\n",
    "    'ETL9G_01',\n",
    "    'ETL9G_02',\n",
    "    'ETL9G_03',\n",
    "    'ETL9G_04',\n",
    "    'ETL9G_05',\n",
    "    'ETL9G_06',\n",
    "    'ETL9G_07',\n",
    "    'ETL9G_08',\n",
    "    'ETL9G_09',\n",
    "    'ETL9G_10',\n",
    "    'ETL9G_11',\n",
    "    'ETL9G_12',\n",
    "    'ETL9G_13',\n",
    "    'ETL9G_14',\n",
    "    'ETL9G_15',\n",
    "    'ETL9G_16',\n",
    "    'ETL9G_17',\n",
    "    'ETL9G_18',\n",
    "    'ETL9G_19',\n",
    "    'ETL9G_20',\n",
    "    'ETL9G_21',\n",
    "    'ETL9G_22',\n",
    "    'ETL9G_23',\n",
    "    'ETL9G_24',\n",
    "    'ETL9G_25',\n",
    "    'ETL9G_26',\n",
    "    'ETL9G_27',\n",
    "    'ETL9G_28',\n",
    "    'ETL9G_29',\n",
    "    'ETL9G_30',\n",
    "    'ETL9G_31',\n",
    "    'ETL9G_32',\n",
    "    'ETL9G_33',\n",
    "    'ETL9G_34',\n",
    "    'ETL9G_35',\n",
    "    'ETL9G_36',\n",
    "    'ETL9G_37',\n",
    "    'ETL9G_38',\n",
    "    'ETL9G_39',\n",
    "    'ETL9G_40',\n",
    "    'ETL9G_41',\n",
    "    'ETL9G_42',\n",
    "    'ETL9G_43',\n",
    "    'ETL9G_44',\n",
    "    'ETL9G_45',\n",
    "    'ETL9G_46',\n",
    "    'ETL9G_47',\n",
    "    'ETL9G_48',\n",
    "    'ETL9G_49',\n",
    "    'ETL9G_50',\n",
    "]"
   ]
  },
  {
   "cell_type": "code",
   "execution_count": 53,
   "metadata": {},
   "outputs": [
    {
     "name": "stdout",
     "output_type": "stream",
     "text": [
      "ETL9G/ETL9G_01\n"
     ]
    }
   ],
   "source": [
    "filename = file_list[0]\n",
    "root_dir= \"ETL9G\"\n",
    "filename= os.path.join(root_dir, filename)\n",
    "print(filename)\n",
    "file_stream = bitstring.ConstBitStream(filename=filename)"
   ]
  },
  {
   "cell_type": "code",
   "execution_count": 54,
   "metadata": {},
   "outputs": [
    {
     "name": "stdout",
     "output_type": "stream",
     "text": [
      "0x3021\n"
     ]
    },
    {
     "data": {
      "text/plain": [
       "<matplotlib.colorbar.Colorbar at 0x7fe4e9851278>"
      ]
     },
     "execution_count": 54,
     "metadata": {},
     "output_type": "execute_result"
    },
    {
     "data": {
      "image/png": "[encoded data removed]",
      "text/plain": [
       "<Figure size 432x288 with 2 Axes>"
      ]
     },
     "metadata": {
      "needs_background": "light"
     },
     "output_type": "display_data"
    }
   ],
   "source": [
    "record = file_stream.readlist(','.join([\n",
    "    'int:16', # Serial Sheet Number - [0]\n",
    "    'uint:16', # JIS Character Code (JIS X 0208) - [1]\n",
    "    '8*uint:8', # JIS Typical Reading (e.g. 'AI.MEDER') - [2:10]\n",
    "    'int:32', # Serial Data Number - [10]\n",
    "    '4*int:8', # - [11:15]\n",
    "    '4*uint:16', # - [15:19]\n",
    "    '2*int:8', # x and y - [19:21]\n",
    "    'pad:272',\n",
    "    'bytes:8128', # 16-graylevel (4-bit) image of 128 x 127 = 16256 pixels\n",
    "    'pad:56',\n",
    "]))\n",
    "\n",
    "record_dict = {\n",
    "    'JIS_CODE': record[1],\n",
    "    'image_data': record[-1]\n",
    "}\n",
    "\n",
    "print(hex(record_dict['JIS_CODE']))\n",
    "\n",
    "width = 128\n",
    "height = 127\n",
    "img = np.array(Image.frombytes('F', (width, height), record_dict['image_data'], 'bit', 4))\n",
    "plt.imshow(img)\n",
    "plt.colorbar()"
   ]
  },
  {
   "cell_type": "code",
   "execution_count": 55,
   "metadata": {},
   "outputs": [
    {
     "name": "stdout",
     "output_type": "stream",
     "text": [
      "<class 'list'> 22\n",
      "0 - 1\n",
      "1 - 12321\n",
      "2 - 65\n",
      "3 - 46\n",
      "4 - 84\n",
      "5 - 83\n",
      "6 - 85\n",
      "7 - 71\n",
      "8 - 85\n",
      "9 - 32\n",
      "10 - 1\n",
      "11 - 0\n",
      "12 - 0\n",
      "13 - 0\n",
      "14 - 0\n",
      "15 - 0\n",
      "16 - 0\n",
      "17 - 8212\n",
      "18 - 8310\n",
      "19 - 0\n",
      "20 - 0\n"
     ]
    }
   ],
   "source": [
    "print(type(record), len(record))\n",
    "for idx, v in enumerate(record[:-1]):\n",
    "    print(f'{idx} - {v}')"
   ]
  },
  {
   "cell_type": "code",
   "execution_count": 56,
   "metadata": {},
   "outputs": [],
   "source": [
    "total_samples = 0\n",
    "record_count = {}\n",
    "\n",
    "for filename in file_list:\n",
    "    filename= os.path.join(root_dir, filename)\n",
    "    file_stream = bitstring.ConstBitStream(filename=filename)\n",
    "\n",
    "    while True:\n",
    "        try:\n",
    "            record = file_stream.readlist(','.join([\n",
    "                'int:16', # Serial Sheet Number - [0]\n",
    "                'uint:16', # JIS Character Code (JIS X 0208) - [1]\n",
    "                '8*uint:8', # JIS Typical Reading (e.g. 'AI.MEDER') - [2:10]\n",
    "                'int:32', # Serial Data Number - [10]\n",
    "                '4*int:8', # - [11:15]\n",
    "                '4*uint:16', # - [15:19]\n",
    "                '2*int:8', # x and y - [19:21]\n",
    "                'pad:272',\n",
    "                'bytes:8128', # 16-graylevel (4-bit) image of 128 x 127 = 16256 pixels\n",
    "                'pad:56',\n",
    "            ]))\n",
    "        except:\n",
    "            break\n",
    "        \n",
    "        total_samples += 1\n",
    "        record_dict = {\n",
    "            'JIS_CODE': record[1],\n",
    "            'image_data': record[-1],\n",
    "        }\n",
    "        \n",
    "        jis_code = hex(record_dict['JIS_CODE'])\n",
    "        \n",
    "#         jis_code = jis_code.upper()\n",
    "        \n",
    "        if jis_code in JIS0208.keys():\n",
    "            unicode = JIS0208[jis_code]\n",
    "    #         print('Unicode:', unicode)\n",
    "            unicode_value = int(unicode, 0)\n",
    "    #         print('Unicode value:', unicode_value)\n",
    "            unicode_char = chr(unicode_value)\n",
    "    #         print('Unicode char:', unicode_char)\n",
    "        else:\n",
    "            unicode_char = jis_code\n",
    "\n",
    "        if unicode_char in record_count.keys():\n",
    "            record_count[unicode_char] += 1\n",
    "        else:\n",
    "            record_count[unicode_char] = 1"
   ]
  },
  {
   "cell_type": "code",
   "execution_count": 57,
   "metadata": {},
   "outputs": [
    {
     "data": {
      "text/plain": [
       "607200"
      ]
     },
     "execution_count": 57,
     "metadata": {},
     "output_type": "execute_result"
    }
   ],
   "source": [
    "total_samples"
   ]
  },
  {
   "cell_type": "code",
   "execution_count": 58,
   "metadata": {},
   "outputs": [
    {
     "data": {
      "text/plain": [
       "3036"
      ]
     },
     "execution_count": 58,
     "metadata": {},
     "output_type": "execute_result"
    }
   ],
   "source": [
    "len(record_count.keys())"
   ]
  },
  {
   "cell_type": "code",
   "execution_count": 59,
   "metadata": {
    "scrolled": true
   },
   "outputs": [
    {
     "data": {
      "text/plain": [
       "{'亜': 200,\n",
       " '唖': 200,\n",
       " '娃': 200,\n",
       " '阿': 200,\n",
       " '哀': 200,\n",
       " '愛': 200,\n",
       " '挨': 200,\n",
       " '姶': 200,\n",
       " '逢': 200,\n",
       " '葵': 200,\n",
       " '茜': 200,\n",
       " '穐': 200,\n",
       " '悪': 200,\n",
       " '握': 200,\n",
       " '渥': 200,\n",
       " 'あ': 200,\n",
       " '旭': 200,\n",
       " '葦': 200,\n",
       " '芦': 200,\n",
       " '鯵': 200,\n",
       " '梓': 200,\n",
       " '圧': 200,\n",
       " '斡': 200,\n",
       " '扱': 200,\n",
       " '宛': 200,\n",
       " '姐': 200,\n",
       " '虻': 200,\n",
       " '飴': 200,\n",
       " '絢': 200,\n",
       " '綾': 200,\n",
       " '鮎': 200,\n",
       " 'い': 200,\n",
       " '或': 200,\n",
       " '粟': 200,\n",
       " '袷': 200,\n",
       " '安': 200,\n",
       " '庵': 200,\n",
       " '按': 200,\n",
       " '暗': 200,\n",
       " '案': 200,\n",
       " '闇': 200,\n",
       " '鞍': 200,\n",
       " '杏': 200,\n",
       " '以': 200,\n",
       " '伊': 200,\n",
       " '位': 200,\n",
       " '依': 200,\n",
       " 'う': 200,\n",
       " '偉': 200,\n",
       " '囲': 200,\n",
       " '夷': 200,\n",
       " '委': 200,\n",
       " '威': 200,\n",
       " '尉': 200,\n",
       " '惟': 200,\n",
       " '意': 200,\n",
       " '慰': 200,\n",
       " '易': 200,\n",
       " '椅': 200,\n",
       " '為': 200,\n",
       " '畏': 200,\n",
       " '異': 200,\n",
       " '移': 200,\n",
       " '維': 200,\n",
       " '緯': 200,\n",
       " '胃': 200,\n",
       " '萎': 200,\n",
       " '衣': 200,\n",
       " '謂': 200,\n",
       " '違': 200,\n",
       " '遺': 200,\n",
       " '医': 200,\n",
       " '井': 200,\n",
       " '亥': 200,\n",
       " '域': 200,\n",
       " '育': 200,\n",
       " '郁': 200,\n",
       " '磯': 200,\n",
       " '一': 200,\n",
       " '壱': 200,\n",
       " '溢': 200,\n",
       " '逸': 200,\n",
       " '稲': 200,\n",
       " '茨': 200,\n",
       " '芋': 200,\n",
       " '鰯': 200,\n",
       " '允': 200,\n",
       " '印': 200,\n",
       " '咽': 200,\n",
       " '員': 200,\n",
       " '因': 200,\n",
       " '姻': 200,\n",
       " '引': 200,\n",
       " '飲': 200,\n",
       " '淫': 200,\n",
       " '胤': 200,\n",
       " '蔭': 200,\n",
       " '院': 200,\n",
       " '陰': 200,\n",
       " '隠': 200,\n",
       " '韻': 200,\n",
       " '吋': 200,\n",
       " '右': 200,\n",
       " '宇': 200,\n",
       " '烏': 200,\n",
       " '羽': 200,\n",
       " '迂': 200,\n",
       " '雨': 200,\n",
       " '卯': 200,\n",
       " '鵜': 200,\n",
       " '窺': 200,\n",
       " '丑': 200,\n",
       " '碓': 200,\n",
       " '臼': 200,\n",
       " '渦': 200,\n",
       " '嘘': 200,\n",
       " '唄': 200,\n",
       " '欝': 200,\n",
       " '蔚': 200,\n",
       " '鰻': 200,\n",
       " '姥': 200,\n",
       " '厩': 200,\n",
       " '浦': 200,\n",
       " '瓜': 200,\n",
       " '閏': 200,\n",
       " '噂': 200,\n",
       " '云': 200,\n",
       " '運': 200,\n",
       " '雲': 200,\n",
       " '荏': 200,\n",
       " '餌': 200,\n",
       " '叡': 200,\n",
       " '営': 200,\n",
       " '嬰': 200,\n",
       " '影': 200,\n",
       " '映': 200,\n",
       " '曳': 200,\n",
       " '栄': 200,\n",
       " '永': 200,\n",
       " '泳': 200,\n",
       " '洩': 200,\n",
       " '瑛': 200,\n",
       " '盈': 200,\n",
       " '穎': 200,\n",
       " '頴': 200,\n",
       " '英': 200,\n",
       " '衛': 200,\n",
       " '詠': 200,\n",
       " '鋭': 200,\n",
       " '液': 200,\n",
       " '疫': 200,\n",
       " '益': 200,\n",
       " '駅': 200,\n",
       " '悦': 200,\n",
       " '謁': 200,\n",
       " '越': 200,\n",
       " '閲': 200,\n",
       " '榎': 200,\n",
       " '厭': 200,\n",
       " '円': 200,\n",
       " '園': 200,\n",
       " '堰': 200,\n",
       " '奄': 200,\n",
       " '宴': 200,\n",
       " '延': 200,\n",
       " '怨': 200,\n",
       " '掩': 200,\n",
       " 'え': 200,\n",
       " '援': 200,\n",
       " '沿': 200,\n",
       " '演': 200,\n",
       " '炎': 200,\n",
       " '焔': 200,\n",
       " '煙': 200,\n",
       " '燕': 200,\n",
       " '猿': 200,\n",
       " '縁': 200,\n",
       " '艶': 200,\n",
       " '苑': 200,\n",
       " '薗': 200,\n",
       " '遠': 200,\n",
       " '鉛': 200,\n",
       " '鴛': 200,\n",
       " 'お': 200,\n",
       " '塩': 200,\n",
       " '於': 200,\n",
       " '汚': 200,\n",
       " '甥': 200,\n",
       " '凹': 200,\n",
       " '央': 200,\n",
       " '奥': 200,\n",
       " '往': 200,\n",
       " '応': 200,\n",
       " '押': 200,\n",
       " '旺': 200,\n",
       " '横': 200,\n",
       " '欧': 200,\n",
       " '殴': 200,\n",
       " '王': 200,\n",
       " 'か': 200,\n",
       " '翁': 200,\n",
       " '襖': 200,\n",
       " '鴬': 200,\n",
       " '鴎': 200,\n",
       " '黄': 200,\n",
       " '岡': 200,\n",
       " '沖': 200,\n",
       " '荻': 200,\n",
       " '億': 200,\n",
       " '屋': 200,\n",
       " '憶': 200,\n",
       " '臆': 200,\n",
       " '桶': 200,\n",
       " '牡': 200,\n",
       " '乙': 200,\n",
       " '俺': 200,\n",
       " '卸': 200,\n",
       " '恩': 200,\n",
       " '温': 200,\n",
       " '穏': 200,\n",
       " '音': 200,\n",
       " '下': 200,\n",
       " '化': 200,\n",
       " '仮': 200,\n",
       " '何': 200,\n",
       " '伽': 200,\n",
       " '価': 200,\n",
       " '佳': 200,\n",
       " '加': 200,\n",
       " '可': 200,\n",
       " '嘉': 200,\n",
       " '夏': 200,\n",
       " '嫁': 200,\n",
       " '家': 200,\n",
       " '寡': 200,\n",
       " '科': 200,\n",
       " '暇': 200,\n",
       " '果': 200,\n",
       " '架': 200,\n",
       " '歌': 200,\n",
       " '河': 200,\n",
       " '火': 200,\n",
       " '珂': 200,\n",
       " '禍': 200,\n",
       " '禾': 200,\n",
       " '稼': 200,\n",
       " '箇': 200,\n",
       " '花': 200,\n",
       " '苛': 200,\n",
       " '茄': 200,\n",
       " '荷': 200,\n",
       " '華': 200,\n",
       " '菓': 200,\n",
       " '蝦': 200,\n",
       " '課': 200,\n",
       " '嘩': 200,\n",
       " '貨': 200,\n",
       " '迦': 200,\n",
       " '過': 200,\n",
       " '霞': 200,\n",
       " '蚊': 200,\n",
       " '俄': 200,\n",
       " '峨': 200,\n",
       " '我': 200,\n",
       " '牙': 200,\n",
       " '画': 200,\n",
       " '臥': 200,\n",
       " '芽': 200,\n",
       " '蛾': 200,\n",
       " '賀': 200,\n",
       " '雅': 200,\n",
       " '餓': 200,\n",
       " '駕': 200,\n",
       " '介': 200,\n",
       " '会': 200,\n",
       " '解': 200,\n",
       " '回': 200,\n",
       " '塊': 200,\n",
       " '壊': 200,\n",
       " '廻': 200,\n",
       " '快': 200,\n",
       " '怪': 200,\n",
       " '悔': 200,\n",
       " '恢': 200,\n",
       " '懐': 200,\n",
       " '戒': 200,\n",
       " '拐': 200,\n",
       " '改': 200,\n",
       " '魁': 200,\n",
       " '晦': 200,\n",
       " '械': 200,\n",
       " '海': 200,\n",
       " '灰': 200,\n",
       " '界': 200,\n",
       " '皆': 200,\n",
       " '絵': 200,\n",
       " '芥': 200,\n",
       " '蟹': 200,\n",
       " '開': 200,\n",
       " '階': 200,\n",
       " '貝': 200,\n",
       " '凱': 200,\n",
       " '劾': 200,\n",
       " '外': 200,\n",
       " '咳': 200,\n",
       " '害': 200,\n",
       " '崖': 200,\n",
       " '慨': 200,\n",
       " '概': 200,\n",
       " '涯': 200,\n",
       " '碍': 200,\n",
       " '蓋': 200,\n",
       " '街': 200,\n",
       " '該': 200,\n",
       " '鎧': 200,\n",
       " '骸': 200,\n",
       " '浬': 200,\n",
       " '馨': 200,\n",
       " '蛙': 200,\n",
       " 'が': 200,\n",
       " '垣': 200,\n",
       " '柿': 200,\n",
       " '蛎': 200,\n",
       " '鈎': 200,\n",
       " '劃': 200,\n",
       " '嚇': 200,\n",
       " '各': 200,\n",
       " '廓': 200,\n",
       " '拡': 200,\n",
       " '撹': 200,\n",
       " '格': 200,\n",
       " '核': 200,\n",
       " '殻': 200,\n",
       " '獲': 200,\n",
       " '確': 200,\n",
       " 'き': 200,\n",
       " '穫': 200,\n",
       " '覚': 200,\n",
       " '角': 200,\n",
       " '赫': 200,\n",
       " '較': 200,\n",
       " '郭': 200,\n",
       " '閣': 200,\n",
       " '隔': 200,\n",
       " '革': 200,\n",
       " '学': 200,\n",
       " '岳': 200,\n",
       " '楽': 200,\n",
       " '額': 200,\n",
       " '顎': 200,\n",
       " '掛': 200,\n",
       " 'ぎ': 200,\n",
       " '笠': 200,\n",
       " '樫': 200,\n",
       " '橿': 200,\n",
       " '梶': 200,\n",
       " '鰍': 200,\n",
       " '潟': 200,\n",
       " '割': 200,\n",
       " '喝': 200,\n",
       " '恰': 200,\n",
       " '括': 200,\n",
       " '活': 200,\n",
       " '渇': 200,\n",
       " '滑': 200,\n",
       " '葛': 200,\n",
       " '褐': 200,\n",
       " '轄': 200,\n",
       " '且': 200,\n",
       " '鰹': 200,\n",
       " '叶': 200,\n",
       " '椛': 200,\n",
       " '樺': 200,\n",
       " '鞄': 200,\n",
       " '株': 200,\n",
       " '兜': 200,\n",
       " '竃': 200,\n",
       " '蒲': 200,\n",
       " '釜': 200,\n",
       " '鎌': 200,\n",
       " '噛': 200,\n",
       " '鴨': 200,\n",
       " '栢': 200,\n",
       " '茅': 200,\n",
       " '萱': 200,\n",
       " '粥': 200,\n",
       " '刈': 200,\n",
       " '苅': 200,\n",
       " '瓦': 200,\n",
       " '乾': 200,\n",
       " '侃': 200,\n",
       " '冠': 200,\n",
       " '寒': 200,\n",
       " '刊': 200,\n",
       " '勘': 200,\n",
       " '勧': 200,\n",
       " '巻': 200,\n",
       " '喚': 200,\n",
       " '堪': 200,\n",
       " '姦': 200,\n",
       " '完': 200,\n",
       " '官': 200,\n",
       " '寛': 200,\n",
       " '干': 200,\n",
       " '幹': 200,\n",
       " '患': 200,\n",
       " '感': 200,\n",
       " '慣': 200,\n",
       " '憾': 200,\n",
       " '換': 200,\n",
       " '敢': 200,\n",
       " '柑': 200,\n",
       " '桓': 200,\n",
       " '棺': 200,\n",
       " '款': 200,\n",
       " '歓': 200,\n",
       " '汗': 200,\n",
       " '漢': 200,\n",
       " '澗': 200,\n",
       " '潅': 200,\n",
       " '環': 200,\n",
       " '甘': 200,\n",
       " '監': 200,\n",
       " '看': 200,\n",
       " '竿': 200,\n",
       " '管': 200,\n",
       " '簡': 200,\n",
       " '緩': 200,\n",
       " '缶': 200,\n",
       " '翰': 200,\n",
       " '肝': 200,\n",
       " '艦': 200,\n",
       " '莞': 200,\n",
       " '観': 200,\n",
       " '諌': 200,\n",
       " '貫': 200,\n",
       " '還': 200,\n",
       " '鑑': 200,\n",
       " '間': 200,\n",
       " '閑': 200,\n",
       " '関': 200,\n",
       " '陥': 200,\n",
       " '韓': 200,\n",
       " '館': 200,\n",
       " '舘': 200,\n",
       " '丸': 200,\n",
       " '含': 200,\n",
       " '岸': 200,\n",
       " '巌': 200,\n",
       " '玩': 200,\n",
       " '癌': 200,\n",
       " '眼': 200,\n",
       " '岩': 200,\n",
       " '翫': 200,\n",
       " '贋': 200,\n",
       " '雁': 200,\n",
       " '頑': 200,\n",
       " '顔': 200,\n",
       " '願': 200,\n",
       " '企': 200,\n",
       " '伎': 200,\n",
       " '危': 200,\n",
       " '喜': 200,\n",
       " '器': 200,\n",
       " '基': 200,\n",
       " '奇': 200,\n",
       " '嬉': 200,\n",
       " '寄': 200,\n",
       " '岐': 200,\n",
       " '希': 200,\n",
       " '幾': 200,\n",
       " 'く': 200,\n",
       " '忌': 200,\n",
       " '揮': 200,\n",
       " '机': 200,\n",
       " '旗': 200,\n",
       " '既': 200,\n",
       " '期': 200,\n",
       " '棋': 200,\n",
       " '棄': 200,\n",
       " '機': 200,\n",
       " '帰': 200,\n",
       " '毅': 200,\n",
       " '気': 200,\n",
       " '汽': 200,\n",
       " '畿': 200,\n",
       " '祈': 200,\n",
       " 'ぐ': 200,\n",
       " '季': 200,\n",
       " '稀': 200,\n",
       " '紀': 200,\n",
       " '徽': 200,\n",
       " '規': 200,\n",
       " '記': 200,\n",
       " '貴': 200,\n",
       " '起': 200,\n",
       " '軌': 200,\n",
       " '輝': 200,\n",
       " '飢': 200,\n",
       " '騎': 200,\n",
       " '鬼': 200,\n",
       " '亀': 200,\n",
       " '偽': 200,\n",
       " 'け': 200,\n",
       " '儀': 200,\n",
       " '妓': 200,\n",
       " '宜': 200,\n",
       " '戯': 200,\n",
       " '技': 200,\n",
       " '擬': 200,\n",
       " '欺': 200,\n",
       " '犠': 200,\n",
       " '疑': 200,\n",
       " '祇': 200,\n",
       " '義': 200,\n",
       " '蟻': 200,\n",
       " '誼': 200,\n",
       " '議': 200,\n",
       " '掬': 200,\n",
       " '菊': 200,\n",
       " '鞠': 200,\n",
       " '吉': 200,\n",
       " '吃': 200,\n",
       " '喫': 200,\n",
       " '桔': 200,\n",
       " '橘': 200,\n",
       " '詰': 200,\n",
       " '砧': 200,\n",
       " '杵': 200,\n",
       " '黍': 200,\n",
       " '却': 200,\n",
       " '客': 200,\n",
       " '脚': 200,\n",
       " '虐': 200,\n",
       " '逆': 200,\n",
       " '丘': 200,\n",
       " '久': 200,\n",
       " '仇': 200,\n",
       " '休': 200,\n",
       " '及': 200,\n",
       " '吸': 200,\n",
       " '宮': 200,\n",
       " '弓': 200,\n",
       " '急': 200,\n",
       " '救': 200,\n",
       " '朽': 200,\n",
       " '求': 200,\n",
       " '汲': 200,\n",
       " '泣': 200,\n",
       " '灸': 200,\n",
       " '球': 200,\n",
       " '究': 200,\n",
       " '窮': 200,\n",
       " '笈': 200,\n",
       " '級': 200,\n",
       " '糾': 200,\n",
       " '給': 200,\n",
       " '旧': 200,\n",
       " '牛': 200,\n",
       " '去': 200,\n",
       " '居': 200,\n",
       " '巨': 200,\n",
       " '拒': 200,\n",
       " '拠': 200,\n",
       " '挙': 200,\n",
       " '渠': 200,\n",
       " '虚': 200,\n",
       " '許': 200,\n",
       " '距': 200,\n",
       " '鋸': 200,\n",
       " '漁': 200,\n",
       " '禦': 200,\n",
       " '魚': 200,\n",
       " '亨': 200,\n",
       " '享': 200,\n",
       " '京': 200,\n",
       " '供': 200,\n",
       " '侠': 200,\n",
       " '僑': 200,\n",
       " '兇': 200,\n",
       " '競': 200,\n",
       " '共': 200,\n",
       " '凶': 200,\n",
       " '協': 200,\n",
       " '匡': 200,\n",
       " '卿': 200,\n",
       " '叫': 200,\n",
       " '喬': 200,\n",
       " '境': 200,\n",
       " '峡': 200,\n",
       " '強': 200,\n",
       " '彊': 200,\n",
       " '怯': 200,\n",
       " '恐': 200,\n",
       " '恭': 200,\n",
       " '挟': 200,\n",
       " '教': 200,\n",
       " '橋': 200,\n",
       " '況': 200,\n",
       " '狂': 200,\n",
       " '狭': 200,\n",
       " '矯': 200,\n",
       " '胸': 200,\n",
       " '脅': 200,\n",
       " '興': 200,\n",
       " '蕎': 200,\n",
       " '郷': 200,\n",
       " '鏡': 200,\n",
       " '響': 200,\n",
       " '饗': 200,\n",
       " '驚': 200,\n",
       " '仰': 200,\n",
       " '凝': 200,\n",
       " '尭': 200,\n",
       " '暁': 200,\n",
       " '業': 200,\n",
       " '局': 200,\n",
       " '曲': 200,\n",
       " '極': 200,\n",
       " '玉': 200,\n",
       " '桐': 200,\n",
       " '粁': 200,\n",
       " '僅': 200,\n",
       " 'げ': 200,\n",
       " '勤': 200,\n",
       " '均': 200,\n",
       " '巾': 200,\n",
       " '錦': 200,\n",
       " '斤': 200,\n",
       " '欣': 200,\n",
       " '欽': 200,\n",
       " '琴': 200,\n",
       " '禁': 200,\n",
       " '禽': 200,\n",
       " '筋': 200,\n",
       " '緊': 200,\n",
       " '芹': 200,\n",
       " '菌': 200,\n",
       " '衿': 200,\n",
       " 'こ': 200,\n",
       " '襟': 200,\n",
       " '謹': 200,\n",
       " '近': 200,\n",
       " '金': 200,\n",
       " '吟': 200,\n",
       " '銀': 200,\n",
       " '九': 200,\n",
       " '倶': 200,\n",
       " '句': 200,\n",
       " '区': 200,\n",
       " '狗': 200,\n",
       " '玖': 200,\n",
       " '矩': 200,\n",
       " '苦': 200,\n",
       " '躯': 200,\n",
       " 'ご': 200,\n",
       " '駆': 200,\n",
       " '駈': 200,\n",
       " '駒': 200,\n",
       " '具': 200,\n",
       " '愚': 200,\n",
       " '虞': 200,\n",
       " '喰': 200,\n",
       " '空': 200,\n",
       " '偶': 200,\n",
       " '寓': 200,\n",
       " '遇': 200,\n",
       " '隅': 200,\n",
       " '串': 200,\n",
       " '櫛': 200,\n",
       " '釧': 200,\n",
       " '屑': 200,\n",
       " '屈': 200,\n",
       " '掘': 200,\n",
       " '窟': 200,\n",
       " '沓': 200,\n",
       " '靴': 200,\n",
       " '轡': 200,\n",
       " '窪': 200,\n",
       " '熊': 200,\n",
       " '隈': 200,\n",
       " '粂': 200,\n",
       " '栗': 200,\n",
       " '繰': 200,\n",
       " '桑': 200,\n",
       " '鍬': 200,\n",
       " '勲': 200,\n",
       " '君': 200,\n",
       " '薫': 200,\n",
       " '訓': 200,\n",
       " '群': 200,\n",
       " '軍': 200,\n",
       " '郡': 200,\n",
       " '卦': 200,\n",
       " '袈': 200,\n",
       " '祁': 200,\n",
       " '係': 200,\n",
       " '傾': 200,\n",
       " '刑': 200,\n",
       " '兄': 200,\n",
       " '啓': 200,\n",
       " '圭': 200,\n",
       " '珪': 200,\n",
       " '型': 200,\n",
       " '契': 200,\n",
       " '形': 200,\n",
       " '径': 200,\n",
       " '恵': 200,\n",
       " '慶': 200,\n",
       " '慧': 200,\n",
       " '憩': 200,\n",
       " '掲': 200,\n",
       " '携': 200,\n",
       " '敬': 200,\n",
       " '景': 200,\n",
       " '桂': 200,\n",
       " '渓': 200,\n",
       " '畦': 200,\n",
       " '稽': 200,\n",
       " '系': 200,\n",
       " '経': 200,\n",
       " '継': 200,\n",
       " '繋': 200,\n",
       " '罫': 200,\n",
       " '茎': 200,\n",
       " '荊': 200,\n",
       " '蛍': 200,\n",
       " '計': 200,\n",
       " '詣': 200,\n",
       " '警': 200,\n",
       " '軽': 200,\n",
       " '頚': 200,\n",
       " '鶏': 200,\n",
       " '芸': 200,\n",
       " '迎': 200,\n",
       " '鯨': 200,\n",
       " '劇': 200,\n",
       " '戟': 200,\n",
       " '撃': 200,\n",
       " '激': 200,\n",
       " '隙': 200,\n",
       " '桁': 200,\n",
       " '傑': 200,\n",
       " '欠': 200,\n",
       " '決': 200,\n",
       " '潔': 200,\n",
       " '穴': 200,\n",
       " '結': 200,\n",
       " '血': 200,\n",
       " '訣': 200,\n",
       " '月': 200,\n",
       " '件': 200,\n",
       " '倹': 200,\n",
       " '倦': 200,\n",
       " '健': 200,\n",
       " '兼': 200,\n",
       " '券': 200,\n",
       " '剣': 200,\n",
       " '喧': 200,\n",
       " '圏': 200,\n",
       " '堅': 200,\n",
       " '嫌': 200,\n",
       " '建': 200,\n",
       " '憲': 200,\n",
       " '懸': 200,\n",
       " '拳': 200,\n",
       " '捲': 200,\n",
       " '検': 200,\n",
       " '権': 200,\n",
       " '牽': 200,\n",
       " '犬': 200,\n",
       " '献': 200,\n",
       " '研': 200,\n",
       " '硯': 200,\n",
       " '絹': 200,\n",
       " 'さ': 200,\n",
       " '県': 200,\n",
       " '肩': 200,\n",
       " '見': 200,\n",
       " '謙': 200,\n",
       " '賢': 200,\n",
       " '軒': 200,\n",
       " '遣': 200,\n",
       " '鍵': 200,\n",
       " '険': 200,\n",
       " '顕': 200,\n",
       " '験': 200,\n",
       " '鹸': 200,\n",
       " '元': 200,\n",
       " '原': 200,\n",
       " '厳': 200,\n",
       " 'ざ': 200,\n",
       " '幻': 200,\n",
       " '弦': 200,\n",
       " '減': 200,\n",
       " '源': 200,\n",
       " '玄': 200,\n",
       " '現': 200,\n",
       " '絃': 200,\n",
       " '舷': 200,\n",
       " '言': 200,\n",
       " '諺': 200,\n",
       " '限': 200,\n",
       " '乎': 200,\n",
       " '個': 200,\n",
       " '古': 200,\n",
       " '呼': 200,\n",
       " 'し': 200,\n",
       " '固': 200,\n",
       " '姑': 200,\n",
       " '孤': 200,\n",
       " '己': 200,\n",
       " '庫': 200,\n",
       " '弧': 200,\n",
       " '戸': 200,\n",
       " '故': 200,\n",
       " '枯': 200,\n",
       " '湖': 200,\n",
       " '狐': 200,\n",
       " '糊': 200,\n",
       " '袴': 200,\n",
       " '股': 200,\n",
       " '胡': 200,\n",
       " 'じ': 200,\n",
       " '菰': 200,\n",
       " '虎': 200,\n",
       " '誇': 200,\n",
       " '跨': 200,\n",
       " '鈷': 200,\n",
       " '雇': 200,\n",
       " '顧': 200,\n",
       " '鼓': 200,\n",
       " '五': 200,\n",
       " '互': 200,\n",
       " '伍': 200,\n",
       " '午': 200,\n",
       " '呉': 200,\n",
       " '吾': 200,\n",
       " '娯': 200,\n",
       " '後': 200,\n",
       " '御': 200,\n",
       " '悟': 200,\n",
       " '梧': 200,\n",
       " '檎': 200,\n",
       " '瑚': 200,\n",
       " '碁': 200,\n",
       " '語': 200,\n",
       " '誤': 200,\n",
       " '護': 200,\n",
       " '醐': 200,\n",
       " '乞': 200,\n",
       " '鯉': 200,\n",
       " '交': 200,\n",
       " '佼': 200,\n",
       " '侯': 200,\n",
       " '候': 200,\n",
       " '倖': 200,\n",
       " '光': 200,\n",
       " '公': 200,\n",
       " '功': 200,\n",
       " '効': 200,\n",
       " '勾': 200,\n",
       " '厚': 200,\n",
       " '口': 200,\n",
       " '向': 200,\n",
       " '后': 200,\n",
       " '喉': 200,\n",
       " '坑': 200,\n",
       " '垢': 200,\n",
       " '好': 200,\n",
       " '孔': 200,\n",
       " '孝': 200,\n",
       " '宏': 200,\n",
       " '工': 200,\n",
       " '巧': 200,\n",
       " '巷': 200,\n",
       " '幸': 200,\n",
       " '広': 200,\n",
       " '庚': 200,\n",
       " '康': 200,\n",
       " '弘': 200,\n",
       " '恒': 200,\n",
       " '慌': 200,\n",
       " '抗': 200,\n",
       " '拘': 200,\n",
       " '控': 200,\n",
       " '攻': 200,\n",
       " '昂': 200,\n",
       " '晃': 200,\n",
       " '更': 200,\n",
       " '杭': 200,\n",
       " '校': 200,\n",
       " '梗': 200,\n",
       " '構': 200,\n",
       " '江': 200,\n",
       " '洪': 200,\n",
       " '浩': 200,\n",
       " '港': 200,\n",
       " '溝': 200,\n",
       " '甲': 200,\n",
       " '皇': 200,\n",
       " '硬': 200,\n",
       " '稿': 200,\n",
       " '糠': 200,\n",
       " '紅': 200,\n",
       " '紘': 200,\n",
       " '絞': 200,\n",
       " '綱': 200,\n",
       " '耕': 200,\n",
       " '考': 200,\n",
       " '肯': 200,\n",
       " '肱': 200,\n",
       " '腔': 200,\n",
       " '膏': 200,\n",
       " '航': 200,\n",
       " '荒': 200,\n",
       " '行': 200,\n",
       " '衡': 200,\n",
       " '講': 200,\n",
       " '貢': 200,\n",
       " '購': 200,\n",
       " '郊': 200,\n",
       " '酵': 200,\n",
       " '鉱': 200,\n",
       " '砿': 200,\n",
       " '鋼': 200,\n",
       " '閤': 200,\n",
       " 'す': 200,\n",
       " '降': 200,\n",
       " '項': 200,\n",
       " '香': 200,\n",
       " '高': 200,\n",
       " '鴻': 200,\n",
       " '剛': 200,\n",
       " '劫': 200,\n",
       " '号': 200,\n",
       " '合': 200,\n",
       " '壕': 200,\n",
       " '拷': 200,\n",
       " '濠': 200,\n",
       " '豪': 200,\n",
       " '轟': 200,\n",
       " '麹': 200,\n",
       " 'ず': 200,\n",
       " '克': 200,\n",
       " '刻': 200,\n",
       " '告': 200,\n",
       " '国': 200,\n",
       " '穀': 200,\n",
       " '酷': 200,\n",
       " '鵠': 200,\n",
       " '黒': 200,\n",
       " '獄': 200,\n",
       " '漉': 200,\n",
       " '腰': 200,\n",
       " '甑': 200,\n",
       " '忽': 200,\n",
       " '惚': 200,\n",
       " '骨': 200,\n",
       " 'せ': 200,\n",
       " '狛': 200,\n",
       " '込': 200,\n",
       " '此': 200,\n",
       " '頃': 200,\n",
       " '今': 200,\n",
       " '困': 200,\n",
       " '坤': 200,\n",
       " '墾': 200,\n",
       " '婚': 200,\n",
       " '恨': 200,\n",
       " '懇': 200,\n",
       " '昏': 200,\n",
       " '昆': 200,\n",
       " '根': 200,\n",
       " '梱': 200,\n",
       " 'ぜ': 200,\n",
       " '混': 200,\n",
       " '痕': 200,\n",
       " '紺': 200,\n",
       " '艮': 200,\n",
       " '魂': 200,\n",
       " '些': 200,\n",
       " '佐': 200,\n",
       " '叉': 200,\n",
       " '唆': 200,\n",
       " '嵯': 200,\n",
       " '左': 200,\n",
       " '差': 200,\n",
       " '査': 200,\n",
       " '沙': 200,\n",
       " '瑳': 200,\n",
       " '砂': 200,\n",
       " '詐': 200,\n",
       " '鎖': 200,\n",
       " '裟': 200,\n",
       " '坐': 200,\n",
       " '座': 200,\n",
       " '挫': 200,\n",
       " '債': 200,\n",
       " '催': 200,\n",
       " ...}"
      ]
     },
     "execution_count": 59,
     "metadata": {},
     "output_type": "execute_result"
    }
   ],
   "source": [
    "record_count"
   ]
  },
  {
   "cell_type": "code",
   "execution_count": 60,
   "metadata": {},
   "outputs": [],
   "source": [
    "csv_filename = 'classes.tsv'\n",
    "with open(csv_filename, mode='w', encoding='utf-8') as f:\n",
    "    f.write('class\\tnum_samples\\n')\n",
    "    for k in record_count.keys():\n",
    "        log_str = f'{k}\\t{record_count[k]}\\n'\n",
    "        f.write(log_str)\n",
    "# sort classes\n",
    "pd_df = pd.read_csv(csv_filename, encoding='utf-8', sep='\\t')\n",
    "pd_df = pd_df.sort_values(['class'])\n",
    "pd_df.to_csv(csv_filename, encoding='utf-8', index=False, sep='\\t')"
   ]
  },
  {
   "cell_type": "markdown",
   "metadata": {},
   "source": [
    "## Extract to images"
   ]
  },
  {
   "cell_type": "code",
   "execution_count": 61,
   "metadata": {},
   "outputs": [],
   "source": [
    "from tqdm import tqdm"
   ]
  },
  {
   "cell_type": "code",
   "execution_count": 62,
   "metadata": {},
   "outputs": [
    {
     "data": {
      "text/plain": [
       "'ETL9G/ETL9G_50'"
      ]
     },
     "execution_count": 62,
     "metadata": {},
     "output_type": "execute_result"
    }
   ],
   "source": [
    "filename"
   ]
  },
  {
   "cell_type": "code",
   "execution_count": 63,
   "metadata": {},
   "outputs": [
    {
     "data": {
      "text/plain": [
       "99568656"
      ]
     },
     "execution_count": 63,
     "metadata": {},
     "output_type": "execute_result"
    }
   ],
   "source": [
    "file_size = os.path.getsize(filename)\n",
    "file_size"
   ]
  },
  {
   "cell_type": "code",
   "execution_count": 64,
   "metadata": {},
   "outputs": [],
   "source": [
    "record_length = 8199 # bytes (8 bits per byte)"
   ]
  },
  {
   "cell_type": "code",
   "execution_count": 65,
   "metadata": {},
   "outputs": [
    {
     "data": {
      "text/plain": [
       "12144.0"
      ]
     },
     "execution_count": 65,
     "metadata": {},
     "output_type": "execute_result"
    }
   ],
   "source": [
    "file_size / record_length"
   ]
  },
  {
   "cell_type": "code",
   "execution_count": 66,
   "metadata": {},
   "outputs": [
    {
     "name": "stderr",
     "output_type": "stream",
     "text": [
      " 10%|▉         | 1205/12144 [00:00<00:00, 12046.42it/s]"
     ]
    },
    {
     "name": "stdout",
     "output_type": "stream",
     "text": [
      "1/50: Loading ETL9G_01...\n"
     ]
    },
    {
     "name": "stderr",
     "output_type": "stream",
     "text": [
      "100%|██████████| 12144/12144 [00:01<00:00, 11985.84it/s]\n",
      " 20%|█▉        | 2395/12144 [00:00<00:00, 11985.17it/s]"
     ]
    },
    {
     "name": "stdout",
     "output_type": "stream",
     "text": [
      "total_time: 1.02s, avg_time: 1.02s, remain_time: 49.80s\n",
      "2/50: Loading ETL9G_02...\n"
     ]
    },
    {
     "name": "stderr",
     "output_type": "stream",
     "text": [
      "100%|██████████| 12144/12144 [00:01<00:00, 11966.53it/s]\n",
      " 10%|▉         | 1197/12144 [00:00<00:00, 11963.39it/s]"
     ]
    },
    {
     "name": "stdout",
     "output_type": "stream",
     "text": [
      "total_time: 2.04s, avg_time: 1.02s, remain_time: 48.84s\n",
      "3/50: Loading ETL9G_03...\n"
     ]
    },
    {
     "name": "stderr",
     "output_type": "stream",
     "text": [
      "100%|██████████| 12144/12144 [00:01<00:00, 11938.43it/s]\n",
      " 10%|▉         | 1196/12144 [00:00<00:00, 11951.92it/s]"
     ]
    },
    {
     "name": "stdout",
     "output_type": "stream",
     "text": [
      "total_time: 3.06s, avg_time: 1.02s, remain_time: 47.87s\n",
      "4/50: Loading ETL9G_04...\n"
     ]
    },
    {
     "name": "stderr",
     "output_type": "stream",
     "text": [
      "100%|██████████| 12144/12144 [00:01<00:00, 11934.19it/s]\n",
      " 20%|██        | 2436/12144 [00:00<00:00, 12161.87it/s]"
     ]
    },
    {
     "name": "stdout",
     "output_type": "stream",
     "text": [
      "total_time: 4.08s, avg_time: 1.02s, remain_time: 46.88s\n",
      "5/50: Loading ETL9G_05...\n"
     ]
    },
    {
     "name": "stderr",
     "output_type": "stream",
     "text": [
      "100%|██████████| 12144/12144 [00:01<00:00, 12139.79it/s]\n",
      " 10%|█         | 1216/12144 [00:00<00:00, 12154.13it/s]"
     ]
    },
    {
     "name": "stdout",
     "output_type": "stream",
     "text": [
      "total_time: 5.08s, avg_time: 1.02s, remain_time: 45.72s\n",
      "6/50: Loading ETL9G_06...\n"
     ]
    },
    {
     "name": "stderr",
     "output_type": "stream",
     "text": [
      "100%|██████████| 12144/12144 [00:01<00:00, 12094.85it/s]\n",
      " 20%|██        | 2445/12144 [00:00<00:00, 12214.90it/s]"
     ]
    },
    {
     "name": "stdout",
     "output_type": "stream",
     "text": [
      "total_time: 6.09s, avg_time: 1.01s, remain_time: 44.63s\n",
      "7/50: Loading ETL9G_07...\n"
     ]
    },
    {
     "name": "stderr",
     "output_type": "stream",
     "text": [
      "100%|██████████| 12144/12144 [00:00<00:00, 12257.24it/s]\n",
      " 10%|▉         | 1213/12144 [00:00<00:00, 12124.49it/s]"
     ]
    },
    {
     "name": "stdout",
     "output_type": "stream",
     "text": [
      "total_time: 7.08s, avg_time: 1.01s, remain_time: 43.49s\n",
      "8/50: Loading ETL9G_08...\n"
     ]
    },
    {
     "name": "stderr",
     "output_type": "stream",
     "text": [
      "100%|██████████| 12144/12144 [00:01<00:00, 12105.58it/s]\n",
      " 10%|▉         | 1211/12144 [00:00<00:00, 12102.62it/s]"
     ]
    },
    {
     "name": "stdout",
     "output_type": "stream",
     "text": [
      "total_time: 8.09s, avg_time: 1.01s, remain_time: 42.45s\n",
      "9/50: Loading ETL9G_09...\n"
     ]
    },
    {
     "name": "stderr",
     "output_type": "stream",
     "text": [
      "100%|██████████| 12144/12144 [00:00<00:00, 12148.72it/s]\n",
      " 10%|▉         | 1213/12144 [00:00<00:00, 12122.15it/s]"
     ]
    },
    {
     "name": "stdout",
     "output_type": "stream",
     "text": [
      "total_time: 9.09s, avg_time: 1.01s, remain_time: 41.40s\n",
      "10/50: Loading ETL9G_10...\n"
     ]
    },
    {
     "name": "stderr",
     "output_type": "stream",
     "text": [
      "100%|██████████| 12144/12144 [00:01<00:00, 12063.61it/s]\n",
      " 10%|▉         | 1210/12144 [00:00<00:00, 12090.59it/s]"
     ]
    },
    {
     "name": "stdout",
     "output_type": "stream",
     "text": [
      "total_time: 10.10s, avg_time: 1.01s, remain_time: 40.39s\n",
      "11/50: Loading ETL9G_11...\n"
     ]
    },
    {
     "name": "stderr",
     "output_type": "stream",
     "text": [
      "100%|██████████| 12144/12144 [00:01<00:00, 12038.85it/s]\n",
      " 20%|█▉        | 2417/12144 [00:00<00:00, 12097.50it/s]"
     ]
    },
    {
     "name": "stdout",
     "output_type": "stream",
     "text": [
      "total_time: 11.11s, avg_time: 1.01s, remain_time: 39.39s\n",
      "12/50: Loading ETL9G_12...\n"
     ]
    },
    {
     "name": "stderr",
     "output_type": "stream",
     "text": [
      "100%|██████████| 12144/12144 [00:01<00:00, 12062.86it/s]\n",
      " 10%|▉         | 1214/12144 [00:00<00:00, 12135.04it/s]"
     ]
    },
    {
     "name": "stdout",
     "output_type": "stream",
     "text": [
      "total_time: 12.12s, avg_time: 1.01s, remain_time: 38.38s\n",
      "13/50: Loading ETL9G_13...\n"
     ]
    },
    {
     "name": "stderr",
     "output_type": "stream",
     "text": [
      "100%|██████████| 12144/12144 [00:01<00:00, 11975.28it/s]\n",
      " 10%|▉         | 1197/12144 [00:00<00:00, 11965.70it/s]"
     ]
    },
    {
     "name": "stdout",
     "output_type": "stream",
     "text": [
      "total_time: 13.14s, avg_time: 1.01s, remain_time: 37.39s\n",
      "14/50: Loading ETL9G_14...\n"
     ]
    },
    {
     "name": "stderr",
     "output_type": "stream",
     "text": [
      "100%|██████████| 12144/12144 [00:01<00:00, 11923.15it/s]\n",
      " 20%|█▉        | 2400/12144 [00:00<00:00, 11996.84it/s]"
     ]
    },
    {
     "name": "stdout",
     "output_type": "stream",
     "text": [
      "total_time: 14.16s, avg_time: 1.01s, remain_time: 36.40s\n",
      "15/50: Loading ETL9G_15...\n"
     ]
    },
    {
     "name": "stderr",
     "output_type": "stream",
     "text": [
      "100%|██████████| 12144/12144 [00:01<00:00, 11995.09it/s]\n",
      " 10%|▉         | 1197/12144 [00:00<00:00, 11967.10it/s]"
     ]
    },
    {
     "name": "stdout",
     "output_type": "stream",
     "text": [
      "total_time: 15.17s, avg_time: 1.01s, remain_time: 35.40s\n",
      "16/50: Loading ETL9G_16...\n"
     ]
    },
    {
     "name": "stderr",
     "output_type": "stream",
     "text": [
      "100%|██████████| 12144/12144 [00:01<00:00, 11960.58it/s]\n",
      " 10%|▉         | 1206/12144 [00:00<00:00, 12051.85it/s]"
     ]
    },
    {
     "name": "stdout",
     "output_type": "stream",
     "text": [
      "total_time: 16.19s, avg_time: 1.01s, remain_time: 34.40s\n",
      "17/50: Loading ETL9G_17...\n"
     ]
    },
    {
     "name": "stderr",
     "output_type": "stream",
     "text": [
      "100%|██████████| 12144/12144 [00:01<00:00, 9378.72it/s]\n",
      " 10%|▉         | 1197/12144 [00:00<00:00, 11963.94it/s]"
     ]
    },
    {
     "name": "stdout",
     "output_type": "stream",
     "text": [
      "total_time: 17.49s, avg_time: 1.03s, remain_time: 33.95s\n",
      "18/50: Loading ETL9G_18...\n"
     ]
    },
    {
     "name": "stderr",
     "output_type": "stream",
     "text": [
      "100%|██████████| 12144/12144 [00:01<00:00, 11951.63it/s]\n",
      " 10%|▉         | 1196/12144 [00:00<00:00, 11955.51it/s]"
     ]
    },
    {
     "name": "stdout",
     "output_type": "stream",
     "text": [
      "total_time: 18.51s, avg_time: 1.03s, remain_time: 32.90s\n",
      "19/50: Loading ETL9G_19...\n"
     ]
    },
    {
     "name": "stderr",
     "output_type": "stream",
     "text": [
      "100%|██████████| 12144/12144 [00:01<00:00, 12025.55it/s]\n",
      " 10%|█         | 1222/12144 [00:00<00:00, 12211.25it/s]"
     ]
    },
    {
     "name": "stdout",
     "output_type": "stream",
     "text": [
      "total_time: 19.52s, avg_time: 1.03s, remain_time: 31.85s\n",
      "20/50: Loading ETL9G_20...\n"
     ]
    },
    {
     "name": "stderr",
     "output_type": "stream",
     "text": [
      "100%|██████████| 12144/12144 [00:00<00:00, 12187.84it/s]\n",
      " 10%|█         | 1220/12144 [00:00<00:00, 12199.37it/s]"
     ]
    },
    {
     "name": "stdout",
     "output_type": "stream",
     "text": [
      "total_time: 20.52s, avg_time: 1.03s, remain_time: 30.78s\n",
      "21/50: Loading ETL9G_21...\n"
     ]
    },
    {
     "name": "stderr",
     "output_type": "stream",
     "text": [
      "100%|██████████| 12144/12144 [00:00<00:00, 12162.48it/s]\n",
      " 20%|█▉        | 2424/12144 [00:00<00:00, 12147.11it/s]"
     ]
    },
    {
     "name": "stdout",
     "output_type": "stream",
     "text": [
      "total_time: 21.52s, avg_time: 1.02s, remain_time: 29.72s\n",
      "22/50: Loading ETL9G_22...\n"
     ]
    },
    {
     "name": "stderr",
     "output_type": "stream",
     "text": [
      "100%|██████████| 12144/12144 [00:01<00:00, 12140.78it/s]\n",
      " 10%|█         | 1217/12144 [00:00<00:00, 12162.24it/s]"
     ]
    },
    {
     "name": "stdout",
     "output_type": "stream",
     "text": [
      "total_time: 22.52s, avg_time: 1.02s, remain_time: 28.67s\n",
      "23/50: Loading ETL9G_23...\n"
     ]
    },
    {
     "name": "stderr",
     "output_type": "stream",
     "text": [
      "100%|██████████| 12144/12144 [00:01<00:00, 12085.50it/s]\n",
      " 10%|█         | 1221/12144 [00:00<00:00, 12206.00it/s]"
     ]
    },
    {
     "name": "stdout",
     "output_type": "stream",
     "text": [
      "total_time: 23.53s, avg_time: 1.02s, remain_time: 27.62s\n",
      "24/50: Loading ETL9G_24...\n"
     ]
    },
    {
     "name": "stderr",
     "output_type": "stream",
     "text": [
      "100%|██████████| 12144/12144 [00:00<00:00, 12165.14it/s]\n",
      " 10%|█         | 1221/12144 [00:00<00:00, 12209.05it/s]"
     ]
    },
    {
     "name": "stdout",
     "output_type": "stream",
     "text": [
      "total_time: 24.53s, avg_time: 1.02s, remain_time: 26.58s\n",
      "25/50: Loading ETL9G_25...\n"
     ]
    },
    {
     "name": "stderr",
     "output_type": "stream",
     "text": [
      "100%|██████████| 12144/12144 [00:00<00:00, 12194.26it/s]\n",
      " 10%|█         | 1225/12144 [00:00<00:00, 12243.59it/s]"
     ]
    },
    {
     "name": "stdout",
     "output_type": "stream",
     "text": [
      "total_time: 25.53s, avg_time: 1.02s, remain_time: 25.53s\n",
      "26/50: Loading ETL9G_26...\n"
     ]
    },
    {
     "name": "stderr",
     "output_type": "stream",
     "text": [
      "100%|██████████| 12144/12144 [00:00<00:00, 12154.75it/s]\n",
      " 10%|▉         | 1212/12144 [00:00<00:00, 12112.21it/s]"
     ]
    },
    {
     "name": "stdout",
     "output_type": "stream",
     "text": [
      "total_time: 26.53s, avg_time: 1.02s, remain_time: 24.49s\n",
      "27/50: Loading ETL9G_27...\n"
     ]
    },
    {
     "name": "stderr",
     "output_type": "stream",
     "text": [
      "100%|██████████| 12144/12144 [00:01<00:00, 12072.60it/s]\n",
      " 10%|▉         | 1210/12144 [00:00<00:00, 12092.23it/s]"
     ]
    },
    {
     "name": "stdout",
     "output_type": "stream",
     "text": [
      "total_time: 27.54s, avg_time: 1.02s, remain_time: 23.46s\n",
      "28/50: Loading ETL9G_28...\n"
     ]
    },
    {
     "name": "stderr",
     "output_type": "stream",
     "text": [
      "100%|██████████| 12144/12144 [00:01<00:00, 12041.74it/s]\n",
      " 20%|██        | 2432/12144 [00:00<00:00, 12180.55it/s]"
     ]
    },
    {
     "name": "stdout",
     "output_type": "stream",
     "text": [
      "total_time: 28.55s, avg_time: 1.02s, remain_time: 22.44s\n",
      "29/50: Loading ETL9G_29...\n"
     ]
    },
    {
     "name": "stderr",
     "output_type": "stream",
     "text": [
      "100%|██████████| 12144/12144 [00:00<00:00, 12162.25it/s]\n",
      " 10%|█         | 1222/12144 [00:00<00:00, 12217.74it/s]"
     ]
    },
    {
     "name": "stdout",
     "output_type": "stream",
     "text": [
      "total_time: 29.56s, avg_time: 1.02s, remain_time: 21.40s\n",
      "30/50: Loading ETL9G_30...\n"
     ]
    },
    {
     "name": "stderr",
     "output_type": "stream",
     "text": [
      "100%|██████████| 12144/12144 [00:01<00:00, 12139.38it/s]\n",
      " 20%|██        | 2429/12144 [00:00<00:00, 12167.36it/s]"
     ]
    },
    {
     "name": "stdout",
     "output_type": "stream",
     "text": [
      "total_time: 30.56s, avg_time: 1.02s, remain_time: 20.37s\n",
      "31/50: Loading ETL9G_31...\n"
     ]
    },
    {
     "name": "stderr",
     "output_type": "stream",
     "text": [
      "100%|██████████| 12144/12144 [00:01<00:00, 12089.24it/s]\n",
      " 10%|█         | 1223/12144 [00:00<00:00, 12224.07it/s]"
     ]
    },
    {
     "name": "stdout",
     "output_type": "stream",
     "text": [
      "total_time: 31.57s, avg_time: 1.02s, remain_time: 19.35s\n",
      "32/50: Loading ETL9G_32...\n"
     ]
    },
    {
     "name": "stderr",
     "output_type": "stream",
     "text": [
      "100%|██████████| 12144/12144 [00:00<00:00, 12242.20it/s]\n",
      " 10%|█         | 1230/12144 [00:00<00:00, 12290.49it/s]"
     ]
    },
    {
     "name": "stdout",
     "output_type": "stream",
     "text": [
      "total_time: 32.56s, avg_time: 1.02s, remain_time: 18.32s\n",
      "33/50: Loading ETL9G_33...\n"
     ]
    },
    {
     "name": "stderr",
     "output_type": "stream",
     "text": [
      "100%|██████████| 12144/12144 [00:00<00:00, 12278.88it/s]\n",
      " 20%|██        | 2459/12144 [00:00<00:00, 12326.02it/s]"
     ]
    },
    {
     "name": "stdout",
     "output_type": "stream",
     "text": [
      "total_time: 33.55s, avg_time: 1.02s, remain_time: 17.28s\n",
      "34/50: Loading ETL9G_34...\n"
     ]
    },
    {
     "name": "stderr",
     "output_type": "stream",
     "text": [
      "100%|██████████| 12144/12144 [00:00<00:00, 12281.51it/s]\n",
      " 10%|█         | 1230/12144 [00:00<00:00, 12299.75it/s]"
     ]
    },
    {
     "name": "stdout",
     "output_type": "stream",
     "text": [
      "total_time: 34.54s, avg_time: 1.02s, remain_time: 16.26s\n",
      "35/50: Loading ETL9G_35...\n"
     ]
    },
    {
     "name": "stderr",
     "output_type": "stream",
     "text": [
      "100%|██████████| 12144/12144 [00:00<00:00, 12248.17it/s]\n",
      " 10%|█         | 1227/12144 [00:00<00:00, 12263.17it/s]"
     ]
    },
    {
     "name": "stdout",
     "output_type": "stream",
     "text": [
      "total_time: 35.54s, avg_time: 1.02s, remain_time: 15.23s\n",
      "36/50: Loading ETL9G_36...\n"
     ]
    },
    {
     "name": "stderr",
     "output_type": "stream",
     "text": [
      "100%|██████████| 12144/12144 [00:00<00:00, 12174.63it/s]\n",
      " 10%|▉         | 1212/12144 [00:00<00:00, 12112.62it/s]"
     ]
    },
    {
     "name": "stdout",
     "output_type": "stream",
     "text": [
      "total_time: 36.54s, avg_time: 1.01s, remain_time: 14.21s\n",
      "37/50: Loading ETL9G_37...\n"
     ]
    },
    {
     "name": "stderr",
     "output_type": "stream",
     "text": [
      "100%|██████████| 12144/12144 [00:01<00:00, 12099.27it/s]\n",
      " 10%|█         | 1230/12144 [00:00<00:00, 12292.83it/s]"
     ]
    },
    {
     "name": "stdout",
     "output_type": "stream",
     "text": [
      "total_time: 37.55s, avg_time: 1.01s, remain_time: 13.19s\n",
      "38/50: Loading ETL9G_38...\n"
     ]
    },
    {
     "name": "stderr",
     "output_type": "stream",
     "text": [
      "100%|██████████| 12144/12144 [00:00<00:00, 12188.32it/s]\n",
      " 10%|█         | 1219/12144 [00:00<00:00, 12187.95it/s]"
     ]
    },
    {
     "name": "stdout",
     "output_type": "stream",
     "text": [
      "total_time: 38.54s, avg_time: 1.01s, remain_time: 12.17s\n",
      "39/50: Loading ETL9G_39...\n"
     ]
    },
    {
     "name": "stderr",
     "output_type": "stream",
     "text": [
      "100%|██████████| 12144/12144 [00:00<00:00, 12180.59it/s]\n",
      " 10%|█         | 1234/12144 [00:00<00:00, 12338.25it/s]"
     ]
    },
    {
     "name": "stdout",
     "output_type": "stream",
     "text": [
      "total_time: 39.55s, avg_time: 1.01s, remain_time: 11.15s\n",
      "40/50: Loading ETL9G_40...\n"
     ]
    },
    {
     "name": "stderr",
     "output_type": "stream",
     "text": [
      "100%|██████████| 12144/12144 [00:00<00:00, 12366.58it/s]\n",
      " 20%|██        | 2471/12144 [00:00<00:00, 12347.86it/s]"
     ]
    },
    {
     "name": "stdout",
     "output_type": "stream",
     "text": [
      "total_time: 40.53s, avg_time: 1.01s, remain_time: 10.13s\n",
      "41/50: Loading ETL9G_41...\n"
     ]
    },
    {
     "name": "stderr",
     "output_type": "stream",
     "text": [
      "100%|██████████| 12144/12144 [00:00<00:00, 12350.36it/s]\n",
      " 10%|█         | 1242/12144 [00:00<00:00, 12415.07it/s]"
     ]
    },
    {
     "name": "stdout",
     "output_type": "stream",
     "text": [
      "total_time: 41.52s, avg_time: 1.01s, remain_time: 9.11s\n",
      "42/50: Loading ETL9G_42...\n"
     ]
    },
    {
     "name": "stderr",
     "output_type": "stream",
     "text": [
      "100%|██████████| 12144/12144 [00:00<00:00, 12348.27it/s]\n",
      " 10%|█         | 1236/12144 [00:00<00:00, 12351.59it/s]"
     ]
    },
    {
     "name": "stdout",
     "output_type": "stream",
     "text": [
      "total_time: 42.50s, avg_time: 1.01s, remain_time: 8.10s\n",
      "43/50: Loading ETL9G_43...\n"
     ]
    },
    {
     "name": "stderr",
     "output_type": "stream",
     "text": [
      "100%|██████████| 12144/12144 [00:00<00:00, 12271.83it/s]\n",
      " 10%|█         | 1232/12144 [00:00<00:00, 12313.02it/s]"
     ]
    },
    {
     "name": "stdout",
     "output_type": "stream",
     "text": [
      "total_time: 43.49s, avg_time: 1.01s, remain_time: 7.08s\n",
      "44/50: Loading ETL9G_44...\n"
     ]
    },
    {
     "name": "stderr",
     "output_type": "stream",
     "text": [
      "100%|██████████| 12144/12144 [00:00<00:00, 12291.49it/s]\n",
      " 10%|█         | 1228/12144 [00:00<00:00, 12270.15it/s]"
     ]
    },
    {
     "name": "stdout",
     "output_type": "stream",
     "text": [
      "total_time: 44.49s, avg_time: 1.01s, remain_time: 6.07s\n",
      "45/50: Loading ETL9G_45...\n"
     ]
    },
    {
     "name": "stderr",
     "output_type": "stream",
     "text": [
      "100%|██████████| 12144/12144 [00:00<00:00, 12325.90it/s]\n",
      " 10%|█         | 1244/12144 [00:00<00:00, 12436.42it/s]"
     ]
    },
    {
     "name": "stdout",
     "output_type": "stream",
     "text": [
      "total_time: 45.47s, avg_time: 1.01s, remain_time: 5.05s\n",
      "46/50: Loading ETL9G_46...\n"
     ]
    },
    {
     "name": "stderr",
     "output_type": "stream",
     "text": [
      "100%|██████████| 12144/12144 [00:00<00:00, 12370.23it/s]\n",
      " 10%|█         | 1238/12144 [00:00<00:00, 12374.14it/s]"
     ]
    },
    {
     "name": "stdout",
     "output_type": "stream",
     "text": [
      "total_time: 46.46s, avg_time: 1.01s, remain_time: 4.04s\n",
      "47/50: Loading ETL9G_47...\n"
     ]
    },
    {
     "name": "stderr",
     "output_type": "stream",
     "text": [
      "100%|██████████| 12144/12144 [00:00<00:00, 12281.19it/s]\n",
      " 20%|██        | 2479/12144 [00:00<00:00, 12416.74it/s]"
     ]
    },
    {
     "name": "stdout",
     "output_type": "stream",
     "text": [
      "total_time: 47.45s, avg_time: 1.01s, remain_time: 3.03s\n",
      "48/50: Loading ETL9G_48...\n"
     ]
    },
    {
     "name": "stderr",
     "output_type": "stream",
     "text": [
      "100%|██████████| 12144/12144 [00:00<00:00, 12335.79it/s]\n",
      " 20%|██        | 2471/12144 [00:00<00:00, 12354.86it/s]"
     ]
    },
    {
     "name": "stdout",
     "output_type": "stream",
     "text": [
      "total_time: 48.44s, avg_time: 1.01s, remain_time: 2.02s\n",
      "49/50: Loading ETL9G_49...\n"
     ]
    },
    {
     "name": "stderr",
     "output_type": "stream",
     "text": [
      "100%|██████████| 12144/12144 [00:00<00:00, 12358.57it/s]\n",
      " 10%|█         | 1232/12144 [00:00<00:00, 12314.08it/s]"
     ]
    },
    {
     "name": "stdout",
     "output_type": "stream",
     "text": [
      "total_time: 49.42s, avg_time: 1.01s, remain_time: 1.01s\n",
      "50/50: Loading ETL9G_50...\n"
     ]
    },
    {
     "name": "stderr",
     "output_type": "stream",
     "text": [
      "100%|██████████| 12144/12144 [00:00<00:00, 12295.56it/s]"
     ]
    },
    {
     "name": "stdout",
     "output_type": "stream",
     "text": [
      "total_time: 50.41s, avg_time: 1.01s, remain_time: 0.00s\n"
     ]
    },
    {
     "name": "stderr",
     "output_type": "stream",
     "text": [
      "\n"
     ]
    }
   ],
   "source": [
    "total_samples = 0\n",
    "record_count = {}\n",
    "\n",
    "record_length = 8199 # bytes (8 bits per byte)\n",
    "\n",
    "start_time = time.time()\n",
    "\n",
    "for file_idx, filename in enumerate(file_list):\n",
    "    print(f'{file_idx+1}/{len(file_list)}: Loading {filename}...')\n",
    "    filename= os.path.join(root_dir, filename)\n",
    "    file_size = os.path.getsize(filename)\n",
    "    num_samples = int(file_size / record_length)\n",
    "\n",
    "    file_stream = bitstring.ConstBitStream(filename=filename)\n",
    "\n",
    "    for _ in tqdm(range(num_samples)):\n",
    "        record = file_stream.readlist(','.join([\n",
    "            'int:16', # Serial Sheet Number - [0]\n",
    "            'uint:16', # JIS Character Code (JIS X 0208) - [1]\n",
    "            '8*uint:8', # JIS Typical Reading (e.g. 'AI.MEDER') - [2:10]\n",
    "            'int:32', # Serial Data Number - [10]\n",
    "            '4*int:8', # - [11:15]\n",
    "            '4*uint:16', # - [15:19]\n",
    "            '2*int:8', # x and y - [19:21]\n",
    "            'pad:272',\n",
    "            'bytes:8128', # 16-graylevel (4-bit) image of 128 x 127 = 16256 pixels\n",
    "            'pad:56',\n",
    "        ]))\n",
    "        \n",
    "        total_samples += 1\n",
    "        record_dict = {\n",
    "            'JIS_CODE': record[1],\n",
    "            'image_data': record[-1],\n",
    "        }\n",
    "        \n",
    "        jis_code = hex(record_dict['JIS_CODE'])\n",
    "        \n",
    "        if jis_code in JIS0208.keys():\n",
    "            # get the unicode hex string\n",
    "            unicode = JIS0208[jis_code]\n",
    "            # convert to int hex value\n",
    "            unicode_value = int(unicode, 0)\n",
    "            # decode into char\n",
    "            unicode_char = chr(unicode_value)\n",
    "        else:\n",
    "            unicode_char = jis_code\n",
    "\n",
    "        if unicode_char in record_count.keys():\n",
    "            record_count[unicode_char] += 1\n",
    "        else:\n",
    "            record_count[unicode_char] = 1\n",
    "            \n",
    "        save_dir = 'ETL9G_IMG'\n",
    "        img_filename = f'{unicode_char}_{str(record_count[unicode_char]).zfill(3)}.png'\n",
    "        img_dir = f'{save_dir}/{unicode_char}'\n",
    "        if not os.path.exists(img_dir):\n",
    "            os.makedirs(img_dir)\n",
    "        img_path = f'{img_dir}/{img_filename}'\n",
    "        \n",
    "        if os.path.exists(img_path):\n",
    "            continue\n",
    "\n",
    "        width = 128\n",
    "        height = 127\n",
    "        np_img = np.array(Image.frombytes('F', (width, height), record_dict['image_data'], 'bit', 4))\n",
    "        scaled_img = (np_img * 17).astype(np.uint8)\n",
    "        pil_img = Image.fromarray(scaled_img)\n",
    "        pil_img.save(img_path)\n",
    "    \n",
    "    total_time = time.time() - start_time\n",
    "    avg_time = total_time / (file_idx + 1)\n",
    "    remain_time = (len(file_list) - file_idx - 1) * avg_time\n",
    "    \n",
    "    print(f'total_time: {total_time:.2f}s, avg_time: {avg_time:.2f}s, remain_time: {remain_time:.2f}s')"
   ]
  },
  {
   "cell_type": "code",
   "execution_count": 67,
   "metadata": {},
   "outputs": [
    {
     "data": {
      "text/plain": [
       "'ETL9G_IMG/腕/腕_200.png'"
      ]
     },
     "execution_count": 67,
     "metadata": {},
     "output_type": "execute_result"
    }
   ],
   "source": [
    "img_path"
   ]
  },
  {
   "cell_type": "code",
   "execution_count": 68,
   "metadata": {},
   "outputs": [
    {
     "data": {
      "text/plain": [
       "<matplotlib.colorbar.Colorbar at 0x7fe4f19df080>"
      ]
     },
     "execution_count": 68,
     "metadata": {},
     "output_type": "execute_result"
    },
    {
     "data": {
      "image/png": "[encoded data removed]",
      "text/plain": [
       "<Figure size 432x288 with 2 Axes>"
      ]
     },
     "metadata": {
      "needs_background": "light"
     },
     "output_type": "display_data"
    }
   ],
   "source": [
    "np_img = np.array(Image.frombytes('F', (width, height), record_dict['image_data'], 'bit', 4))\n",
    "plt.imshow(np_img, cmap='gray')\n",
    "plt.colorbar()"
   ]
  },
  {
   "cell_type": "code",
   "execution_count": 69,
   "metadata": {},
   "outputs": [
    {
     "data": {
      "text/plain": [
       "<matplotlib.colorbar.Colorbar at 0x7fe4f1904908>"
      ]
     },
     "execution_count": 69,
     "metadata": {},
     "output_type": "execute_result"
    },
    {
     "data": {
      "image/png": "[encoded data removed]",
      "text/plain": [
       "<Figure size 432x288 with 2 Axes>"
      ]
     },
     "metadata": {
      "needs_background": "light"
     },
     "output_type": "display_data"
    }
   ],
   "source": [
    "scaled_img = (np_img * 17).astype(np.uint8)\n",
    "plt.imshow(scaled_img, cmap='gray')\n",
    "plt.colorbar()"
   ]
  },
  {
   "cell_type": "code",
   "execution_count": 70,
   "metadata": {},
   "outputs": [
    {
     "data": {
      "text/plain": [
       "'ETL9G_IMG/腕/腕_200.png'"
      ]
     },
     "execution_count": 70,
     "metadata": {},
     "output_type": "execute_result"
    }
   ],
   "source": [
    "pil_img = Image.fromarray(scaled_img)\n",
    "pil_img.save(img_path)\n",
    "img_path"
   ]
  },
  {
   "cell_type": "code",
   "execution_count": 72,
   "metadata": {},
   "outputs": [],
   "source": [
    "import cv2"
   ]
  },
  {
   "cell_type": "code",
   "execution_count": 73,
   "metadata": {},
   "outputs": [],
   "source": [
    "count= 0\n",
    "for root, dirs, files in os.walk(\"ETL9G_IMG\"):\n",
    "    count+= len(files)"
   ]
  },
  {
   "cell_type": "code",
   "execution_count": 74,
   "metadata": {},
   "outputs": [
    {
     "data": {
      "text/plain": [
       "607223"
      ]
     },
     "execution_count": 74,
     "metadata": {},
     "output_type": "execute_result"
    }
   ],
   "source": [
    "count"
   ]
  },
  {
   "cell_type": "code",
   "execution_count": 75,
   "metadata": {},
   "outputs": [],
   "source": [
    "img= cv2.imread(\"ETL9G_IMG/あ/あ_001.png\")"
   ]
  },
  {
   "cell_type": "code",
   "execution_count": 76,
   "metadata": {},
   "outputs": [
    {
     "data": {
      "text/plain": [
       "(127, 128, 3)"
      ]
     },
     "execution_count": 76,
     "metadata": {},
     "output_type": "execute_result"
    }
   ],
   "source": [
    "img.shape"
   ]
  },
  {
   "cell_type": "code",
   "execution_count": 89,
   "metadata": {},
   "outputs": [],
   "source": [
    "coords= np.where(img != 0)\n",
    "new_img= np.ones_like(img)\n",
    "new_img= new_img*255\n",
    "new_img[coords]= 0"
   ]
  },
  {
   "cell_type": "code",
   "execution_count": 78,
   "metadata": {},
   "outputs": [
    {
     "data": {
      "text/plain": [
       "<matplotlib.colorbar.Colorbar at 0x7fe4f18b8908>"
      ]
     },
     "execution_count": 78,
     "metadata": {},
     "output_type": "execute_result"
    },
    {
     "data": {
      "image/png": "[encoded data removed]",
      "text/plain": [
       "<Figure size 432x288 with 2 Axes>"
      ]
     },
     "metadata": {
      "needs_background": "light"
     },
     "output_type": "display_data"
    }
   ],
   "source": [
    "plt.imshow(new_img, cmap='gray')\n",
    "plt.colorbar()"
   ]
  },
  {
   "cell_type": "code",
   "execution_count": 90,
   "metadata": {},
   "outputs": [
    {
     "name": "stderr",
     "output_type": "stream",
     "text": [
      "3038it [04:06, 12.34it/s]\n"
     ]
    }
   ],
   "source": [
    "root_= \"ETL9G_dataset\"\n",
    "if not os.path.exists(root_):\n",
    "    os.makedirs(root_)\n",
    "    \n",
    "for root,dirs, files in tqdm(os.walk(\"ETL9G_IMG\")):\n",
    "    for filename in files:\n",
    "        path= os.path.join(root, filename)\n",
    "        newpath= path.replace(\"ETL9G_IMG\", root_)\n",
    "        newdir= os.path.dirname(newpath)\n",
    "        if not os.path.exists(newdir):\n",
    "            os.makedirs(newdir)\n",
    "        img= cv2.imread(path)\n",
    "        coords= np.where(img != 0)\n",
    "        new_img= np.ones_like(img)\n",
    "        new_img= new_img*255\n",
    "        new_img[coords]= 0\n",
    "        cv2.imwrite(newpath, new_img)"
   ]
  },
  {
   "cell_type": "code",
   "execution_count": null,
   "metadata": {},
   "outputs": [],
   "source": []
  }
 ],
 "metadata": {
  "kernelspec": {
   "display_name": "Python 3",
   "language": "python",
   "name": "python3"
  },
  "language_info": {
   "codemirror_mode": {
    "name": "ipython",
    "version": 3
   },
   "file_extension": ".py",
   "mimetype": "text/x-python",
   "name": "python",
   "nbconvert_exporter": "python",
   "pygments_lexer": "ipython3",
   "version": "3.6.12"
  }
 },
 "nbformat": 4,
 "nbformat_minor": 4
}
